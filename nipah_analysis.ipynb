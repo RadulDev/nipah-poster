{
 "cells": [
  {
   "cell_type": "code",
   "execution_count": 2,
   "id": "38881d81",
   "metadata": {},
   "outputs": [
    {
     "name": "stdout",
     "output_type": "stream",
     "text": [
      "pandas 1.3.4\n",
      "biopython 1.79\n"
     ]
    }
   ],
   "source": [
    "import pandas\n",
    "import Bio\n",
    "from Bio.Seq import Seq\n",
    "print('pandas',pandas.__version__)\n",
    "print('biopython',Bio.__version__)"
   ]
  },
  {
   "cell_type": "code",
   "execution_count": 3,
   "id": "260d52f7",
   "metadata": {},
   "outputs": [],
   "source": [
    "# accession id : NC_002728 Nipah virus, complete genome"
   ]
  },
  {
   "cell_type": "code",
   "execution_count": null,
   "id": "d4d95f19",
   "metadata": {},
   "outputs": [],
   "source": [
    "## entrez search for nucleotide"
   ]
  },
  {
   "cell_type": "code",
   "execution_count": 4,
   "id": "b1fc3875",
   "metadata": {},
   "outputs": [],
   "source": [
    "from Bio import Entrez, SeqIO\n",
    "Entrez.email = \"\" \n",
    "handle = Entrez.efetch(db=\"nucleotide\", id=\"NC_002728\", rettype=\"gb\", retmode=\"text\")\n",
    "recs = list(SeqIO.parse(handle, 'gb'))\n",
    "handle.close()"
   ]
  },
  {
   "cell_type": "code",
   "execution_count": 5,
   "id": "6c8194e3",
   "metadata": {},
   "outputs": [
    {
     "data": {
      "text/plain": [
       "[SeqRecord(seq=Seq('ACCAAACAAGGGAGAATATGGATACGTTAAAATATATAACGTATTTTTAAAACT...GGT'), id='NC_002728.1', name='NC_002728', description='Nipah virus, complete genome', dbxrefs=['Project:15443', 'BioProject:PRJNA485481'])]"
      ]
     },
     "execution_count": 5,
     "metadata": {},
     "output_type": "execute_result"
    }
   ],
   "source": [
    "recs"
   ]
  },
  {
   "cell_type": "code",
   "execution_count": 6,
   "id": "c33ad811",
   "metadata": {},
   "outputs": [],
   "source": [
    "nipah_dna = recs[0].seq"
   ]
  },
  {
   "cell_type": "code",
   "execution_count": 7,
   "id": "d58ccbc9",
   "metadata": {},
   "outputs": [
    {
     "data": {
      "text/plain": [
       "Seq('ACCAAACAAGGGAGAATATGGATACGTTAAAATATATAACGTATTTTTAAAACT...GGT')"
      ]
     },
     "execution_count": 7,
     "metadata": {},
     "output_type": "execute_result"
    }
   ],
   "source": [
    "nipah_dna"
   ]
  },
  {
   "cell_type": "code",
   "execution_count": 8,
   "id": "a4b11627",
   "metadata": {},
   "outputs": [
    {
     "name": "stdout",
     "output_type": "stream",
     "text": [
      "The genome of Nipah consists of 18246 nucleotides.\n"
     ]
    }
   ],
   "source": [
    "print(f'The genome of Nipah consists of {len(nipah_dna)} nucleotides.')"
   ]
  },
  {
   "cell_type": "code",
   "execution_count": null,
   "id": "46652788",
   "metadata": {},
   "outputs": [],
   "source": [
    "## chemical and physical property of the nucleotide molecule"
   ]
  },
  {
   "cell_type": "code",
   "execution_count": 9,
   "id": "219c88e8",
   "metadata": {},
   "outputs": [
    {
     "data": {
      "text/plain": [
       "5647061.569500455"
      ]
     },
     "execution_count": 9,
     "metadata": {},
     "output_type": "execute_result"
    }
   ],
   "source": [
    "# molecular weight\n",
    "from Bio.SeqUtils import molecular_weight\n",
    "molecular_weight(nipah_dna)"
   ]
  },
  {
   "cell_type": "code",
   "execution_count": 10,
   "id": "53229ea2",
   "metadata": {},
   "outputs": [
    {
     "data": {
      "text/plain": [
       "38.16726953852899"
      ]
     },
     "execution_count": 10,
     "metadata": {},
     "output_type": "execute_result"
    }
   ],
   "source": [
    "# GC content - higher GC content implies more stable molecule due to G and C forming triple hydrogen bonds\n",
    "from Bio.SeqUtils import GC\n",
    "GC(nipah_dna)"
   ]
  },
  {
   "cell_type": "markdown",
   "id": "3098fe63",
   "metadata": {},
   "source": [
    "## nucleotide distribution"
   ]
  },
  {
   "cell_type": "code",
   "execution_count": 11,
   "id": "25ca1e10",
   "metadata": {},
   "outputs": [],
   "source": [
    "count_nucleotides = {\n",
    "    'A': nipah_dna.count('A'),\n",
    "    'T': nipah_dna.count('T'),\n",
    "    'C': nipah_dna.count('C'),\n",
    "    'G': nipah_dna.count('G')\n",
    "}"
   ]
  },
  {
   "cell_type": "code",
   "execution_count": 12,
   "id": "ac10d2ed",
   "metadata": {},
   "outputs": [
    {
     "data": {
      "text/plain": [
       "{'A': 6176, 'T': 5106, 'C': 3326, 'G': 3638}"
      ]
     },
     "execution_count": 12,
     "metadata": {},
     "output_type": "execute_result"
    }
   ],
   "source": [
    "count_nucleotides"
   ]
  },
  {
   "cell_type": "code",
   "execution_count": null,
   "id": "4a3d127f",
   "metadata": {},
   "outputs": [],
   "source": [
    "##plotting of nucleotides"
   ]
  },
  {
   "cell_type": "code",
   "execution_count": 13,
   "id": "229ea8f3",
   "metadata": {},
   "outputs": [
    {
     "data": {
      "text/plain": [
       "Text(0.5, 1.0, 'Nucleotide Frequency')"
      ]
     },
     "execution_count": 13,
     "metadata": {},
     "output_type": "execute_result"
    },
    {
     "data": {
      "image/png": "[encoded data removed]",
      "text/plain": [
       "<Figure size 432x288 with 1 Axes>"
      ]
     },
     "metadata": {
      "needs_background": "light"
     },
     "output_type": "display_data"
    }
   ],
   "source": [
    "import matplotlib.pyplot as plt\n",
    "width = 0.5\n",
    "plt.bar(count_nucleotides.keys(), count_nucleotides.values(), width, color=['b', 'r', 'm', 'c'])\n",
    "plt.xlabel('Nucleotide')\n",
    "plt.ylabel('Frequency')\n",
    "plt.title('Nucleotide Frequency')"
   ]
  },
  {
   "cell_type": "code",
   "execution_count": null,
   "id": "14e90c87",
   "metadata": {},
   "outputs": [],
   "source": [
    "## transcription of dna"
   ]
  },
  {
   "cell_type": "code",
   "execution_count": 14,
   "id": "bb63b9f0",
   "metadata": {},
   "outputs": [
    {
     "data": {
      "text/plain": [
       "Seq('ACCAAACAAGGGAGAAUAUGGAUACGUUAAAAUAUAUAACGUAUUUUUAAAACU...GGU')"
      ]
     },
     "execution_count": 14,
     "metadata": {},
     "output_type": "execute_result"
    }
   ],
   "source": [
    "## nipah dna to mrna\n",
    "nipah_mrna = nipah_dna.transcribe()\n",
    "nipah_mrna"
   ]
  },
  {
   "cell_type": "code",
   "execution_count": null,
   "id": "d9156c68",
   "metadata": {},
   "outputs": [],
   "source": [
    "## transaltion of mrna"
   ]
  },
  {
   "cell_type": "code",
   "execution_count": 15,
   "id": "5194b22d",
   "metadata": {},
   "outputs": [
    {
     "data": {
      "text/plain": [
       "Seq('TKQGRIWIR*NI*RIFKT*EPRQTLLVLVLDPQEIYHHE*YL*RGG*F*ELSI*...LFG')"
      ]
     },
     "execution_count": 15,
     "metadata": {},
     "output_type": "execute_result"
    }
   ],
   "source": [
    "## nipah mrna to amino acid\n",
    "nipah_aa = nipah_mrna.translate()\n",
    "nipah_aa"
   ]
  },
  {
   "cell_type": "code",
   "execution_count": null,
   "id": "05e474e8",
   "metadata": {},
   "outputs": [],
   "source": [
    "## counting aminoacids in the total aminoacids coded by genome"
   ]
  },
  {
   "cell_type": "code",
   "execution_count": 16,
   "id": "9b30923c",
   "metadata": {},
   "outputs": [
    {
     "data": {
      "text/plain": [
       "[('L', 720),\n",
       " ('S', 504),\n",
       " ('*', 483),\n",
       " ('I', 463),\n",
       " ('R', 382),\n",
       " ('T', 364),\n",
       " ('K', 359),\n",
       " ('Q', 322),\n",
       " ('N', 266),\n",
       " ('V', 245)]"
      ]
     },
     "execution_count": 16,
     "metadata": {},
     "output_type": "execute_result"
    }
   ],
   "source": [
    "#most common amino acids\n",
    "from collections import Counter\n",
    "common_amino = Counter(nipah_aa)\n",
    "common_amino.most_common(10)"
   ]
  },
  {
   "cell_type": "code",
   "execution_count": null,
   "id": "e6039404",
   "metadata": {},
   "outputs": [],
   "source": [
    "## amino acid distribution is plotted"
   ]
  },
  {
   "cell_type": "code",
   "execution_count": 17,
   "id": "ea32feb8",
   "metadata": {},
   "outputs": [
    {
     "data": {
      "text/plain": [
       "Text(0.5, 1.0, 'Protein Sequence Frequency')"
      ]
     },
     "execution_count": 17,
     "metadata": {},
     "output_type": "execute_result"
    },
    {
     "data": {
      "image/png": "[encoded data removed]",
      "text/plain": [
       "<Figure size 432x288 with 1 Axes>"
      ]
     },
     "metadata": {
      "needs_background": "light"
     },
     "output_type": "display_data"
    }
   ],
   "source": [
    "del common_amino['*']\n",
    "\n",
    "width = 0.5\n",
    "plt.bar(common_amino.keys(), common_amino.values(), width, color=['b', 'r', 'm', 'c'])\n",
    "plt.xlabel('Amino Acid')\n",
    "plt.ylabel('Frequency')\n",
    "plt.title('Protein Sequence Frequency')"
   ]
  },
  {
   "cell_type": "code",
   "execution_count": 18,
   "id": "db59c5c2",
   "metadata": {},
   "outputs": [
    {
     "name": "stdout",
     "output_type": "stream",
     "text": [
      "nipah's genome has 5599 amino acids\n"
     ]
    }
   ],
   "source": [
    "print(f\"nipah's genome has {sum(common_amino.values())} amino acids\")"
   ]
  },
  {
   "cell_type": "code",
   "execution_count": null,
   "id": "4ef6fde6",
   "metadata": {},
   "outputs": [],
   "source": [
    "## splitting of amino acid chains"
   ]
  },
  {
   "cell_type": "code",
   "execution_count": 19,
   "id": "e66f3f4f",
   "metadata": {},
   "outputs": [
    {
     "data": {
      "text/plain": [
       "[Seq('TKQGRIWIR'),\n",
       " Seq('NI'),\n",
       " Seq('RIFKT'),\n",
       " Seq('EPRQTLLVLVLDPQEIYHHE'),\n",
       " Seq('YL')]"
      ]
     },
     "execution_count": 19,
     "metadata": {},
     "output_type": "execute_result"
    }
   ],
   "source": [
    "proteins = nipah_aa.split('*')\n",
    "proteins[:5]"
   ]
  },
  {
   "cell_type": "code",
   "execution_count": null,
   "id": "31bd3736",
   "metadata": {},
   "outputs": [],
   "source": [
    "## removing aminoacid chain which is less than 20 amino acid"
   ]
  },
  {
   "cell_type": "code",
   "execution_count": 20,
   "id": "e38ad583",
   "metadata": {},
   "outputs": [],
   "source": [
    "for protein in proteins:\n",
    "    if len(protein) < 20:\n",
    "        proteins.remove(protein)"
   ]
  },
  {
   "cell_type": "code",
   "execution_count": 21,
   "id": "547c6c66",
   "metadata": {},
   "outputs": [
    {
     "name": "stdout",
     "output_type": "stream",
     "text": [
      "We have 271 proteins with more than 20 amino acids in the covid-19 genome\n"
     ]
    }
   ],
   "source": [
    "print(f'We have {len(proteins)} proteins with more than 20 amino acids in the covid-19 genome')"
   ]
  },
  {
   "cell_type": "code",
   "execution_count": null,
   "id": "0e0dbd5e",
   "metadata": {},
   "outputs": [],
   "source": [
    "##sorting protein based on length"
   ]
  },
  {
   "cell_type": "code",
   "execution_count": 22,
   "id": "aa4475e3",
   "metadata": {},
   "outputs": [],
   "source": [
    "top_5_proteins = sorted(proteins, key = len)"
   ]
  },
  {
   "cell_type": "code",
   "execution_count": 23,
   "id": "f0b4caf8",
   "metadata": {},
   "outputs": [
    {
     "data": {
      "text/plain": [
       "[Seq(''),\n",
       " Seq(''),\n",
       " Seq(''),\n",
       " Seq(''),\n",
       " Seq(''),\n",
       " Seq(''),\n",
       " Seq(''),\n",
       " Seq(''),\n",
       " Seq(''),\n",
       " Seq(''),\n",
       " Seq(''),\n",
       " Seq(''),\n",
       " Seq(''),\n",
       " Seq(''),\n",
       " Seq(''),\n",
       " Seq(''),\n",
       " Seq(''),\n",
       " Seq(''),\n",
       " Seq(''),\n",
       " Seq(''),\n",
       " Seq('N'),\n",
       " Seq('Y'),\n",
       " Seq('G'),\n",
       " Seq('I'),\n",
       " Seq('A'),\n",
       " Seq('Y'),\n",
       " Seq('G'),\n",
       " Seq('K'),\n",
       " Seq('Y'),\n",
       " Seq('R'),\n",
       " Seq('T'),\n",
       " Seq('I'),\n",
       " Seq('G'),\n",
       " Seq('L'),\n",
       " Seq('NI'),\n",
       " Seq('TP'),\n",
       " Seq('RC'),\n",
       " Seq('HL'),\n",
       " Seq('FF'),\n",
       " Seq('PV'),\n",
       " Seq('IL'),\n",
       " Seq('KT'),\n",
       " Seq('GI'),\n",
       " Seq('MY'),\n",
       " Seq('AK'),\n",
       " Seq('FI'),\n",
       " Seq('LI'),\n",
       " Seq('ML'),\n",
       " Seq('LC'),\n",
       " Seq('RGG'),\n",
       " Seq('PRH'),\n",
       " Seq('PSL'),\n",
       " Seq('STL'),\n",
       " Seq('LVT'),\n",
       " Seq('TIQ'),\n",
       " Seq('LVN'),\n",
       " Seq('FQP'),\n",
       " Seq('TRN'),\n",
       " Seq('EED'),\n",
       " Seq('KME'),\n",
       " Seq('EHY'),\n",
       " Seq('PEL'),\n",
       " Seq('YQI'),\n",
       " Seq('PTT'),\n",
       " Seq('TII'),\n",
       " Seq('MRM'),\n",
       " Seq('SQS'),\n",
       " Seq('REG'),\n",
       " Seq('VCI'),\n",
       " Seq('QLH'),\n",
       " Seq('RGN'),\n",
       " Seq('RRY'),\n",
       " Seq('YPR'),\n",
       " Seq('LKK'),\n",
       " Seq('ELSI'),\n",
       " Seq('FRQS'),\n",
       " Seq('EETF'),\n",
       " Seq('ACCL'),\n",
       " Seq('TKLL'),\n",
       " Seq('EYLM'),\n",
       " Seq('IYHL'),\n",
       " Seq('NIPI'),\n",
       " Seq('HYMRQ'),\n",
       " Seq('LQRGA'),\n",
       " Seq('LDHPE'),\n",
       " Seq('VLSTQ'),\n",
       " Seq('ELERY'),\n",
       " Seq('LITVL'),\n",
       " Seq('IQLKA'),\n",
       " Seq('DNLYQ'),\n",
       " Seq('IPQQC'),\n",
       " Seq('TSEVV'),\n",
       " Seq('RKSCL'),\n",
       " Seq('LIWICA'),\n",
       " Seq('YRQLTR'),\n",
       " Seq('GNIWGQ'),\n",
       " Seq('KIKSFF'),\n",
       " Seq('HCLDLS'),\n",
       " Seq('RKCIKN'),\n",
       " Seq('KILGNL'),\n",
       " Seq('EKVLGA'),\n",
       " Seq('ISDRSS'),\n",
       " Seq('YTIIIRH'),\n",
       " Seq('LLNTTTD'),\n",
       " Seq('EKLRRQV'),\n",
       " Seq('LKIEEMK'),\n",
       " Seq('HLPFQII'),\n",
       " Seq('QRLTRMF'),\n",
       " Seq('IGQRGEV'),\n",
       " Seq('SRPQTCSK'),\n",
       " Seq('IPQQYRSL'),\n",
       " Seq('GLTLKIES'),\n",
       " Seq('CSQGLSER'),\n",
       " Seq('VKLDLSKE'),\n",
       " Seq('QVKSSMLI'),\n",
       " Seq('LSGFIFLF'),\n",
       " Seq('YQLLNMLN'),\n",
       " Seq('ERVDFSQS'),\n",
       " Seq('ISELREKR'),\n",
       " Seq('TLTITSTA'),\n",
       " Seq('SCKITILYY'),\n",
       " Seq('QFIQWINWN'),\n",
       " Seq('KAKKFLVLC'),\n",
       " Seq('YTCETKVLK'),\n",
       " Seq('PTKCVHVKS'),\n",
       " Seq('QTNRMGQLYS'),\n",
       " Seq('FIQRLSFILV'),\n",
       " Seq('GYRYWKVNSD'),\n",
       " Seq('TGVTSRNPPF'),\n",
       " Seq('MEIIYQVKEN'),\n",
       " Seq('IQRYAINLISA'),\n",
       " Seq('FIQNGDPGKPR'),\n",
       " Seq('EHCNYKIRSCK'),\n",
       " Seq('TFTGKERVYTY'),\n",
       " Seq('SRAQMGTNIVCT'),\n",
       " Seq('PQFPLQTIYPID'),\n",
       " Seq('KLMITTGYITYT'),\n",
       " Seq('LTYMQITINLLG'),\n",
       " Seq('IILMTTDHLHTT'),\n",
       " Seq('IYRIEKLKSGGR'),\n",
       " Seq('VIMTLKPCVKSRF'),\n",
       " Seq('RSTKTTLMTLSVM'),\n",
       " Seq('EHWVTLQKTLMIF'),\n",
       " Seq('LTTPPVLQPYSVM'),\n",
       " Seq('SSKITQDQQTIRP'),\n",
       " Seq('QSTLWLSIGVITR'),\n",
       " Seq('YNSETGLINNLDR'),\n",
       " Seq('KSHSKHTISLVRK'),\n",
       " Seq('WRQQSNRISSTNL'),\n",
       " Seq('FLHYSNSRMRLGS'),\n",
       " Seq('YHQILAQLTWHEH'),\n",
       " Seq('TFLYGQLRNFMMS'),\n",
       " Seq('RGKICCRRCAHWRQ'),\n",
       " Seq('RTLSMTSLTVIFDH'),\n",
       " Seq('YTSLGRGRKVLLTY'),\n",
       " Seq('LIPCSLSWETEFTI'),\n",
       " Seq('KMGCQEMSAIASIF'),\n",
       " Seq('KVYFMTNLLMKILN'),\n",
       " Seq('KWQYDSKIQDLYPRS'),\n",
       " Seq('LTHPVPLLSQLTLGC'),\n",
       " Seq('DLVFSARMLNLIVHT'),\n",
       " Seq('FSSFSYQLSLVLTRH'),\n",
       " Seq('FLKSRIHSLSSSTMI'),\n",
       " Seq('QASSSENIFSQYHKAQ'),\n",
       " Seq('KFNKKLRTQVHNSLDT'),\n",
       " Seq('WCPYSMEDQKQHGSGI'),\n",
       " Seq('CSNCYFDNQDKDICTSY'),\n",
       " Seq('LKNLSALDRKTQSFGSC'),\n",
       " Seq('VQEKQCHCLQSSSVLED'),\n",
       " Seq('DEIAVFTGFHRRTKSPH'),\n",
       " Seq('YTVLRYQMHLRLWWEGI'),\n",
       " Seq('AYVFQTRPKISTSPCWRN'),\n",
       " Seq('ASTMIIQNGSVLSQISYW'),\n",
       " Seq('WTGGLYYLEPLMRYWIIH'),\n",
       " Seq('IVSKGKMLSLHIIGASRGQ'),\n",
       " Seq('YQGKGKEKERGKIILSLNQ'),\n",
       " Seq('QYRENSKGLNRILLKFNQS'),\n",
       " Seq('RIRFGAYHWLRYMTQETMS'),\n",
       " Seq('EPRQTLLVLVLDPQEIYHHE'),\n",
       " Seq('ICPWRLPIIVELCHGCGYYY'),\n",
       " Seq('YFILIINDIMTNKDSNWIMI'),\n",
       " Seq('KIKLYLQSKTNGTVYTHVKC'),\n",
       " Seq('PQVSVNILRRTGWLRMSTNF'),\n",
       " Seq('SRHLLEDSITLICLEFLLEI'),\n",
       " Seq('HTPLDSQSQDYLTCTDHISD'),\n",
       " Seq('ENCVWIIWPSKSPRSVEESTD'),\n",
       " Seq('FRMCRTCLSAQGVSWKIIKHD'),\n",
       " Seq('VLHVSVKQQAGQSHNQENKLC'),\n",
       " Seq('SLRTMISYSSSSDNQFFICTL'),\n",
       " Seq('VNLNGMSVFCFGLLSKQRCEQ'),\n",
       " Seq('VSVVLQIRRFGLCLLMIFYPF'),\n",
       " Seq('KDLLSMLQTLIAPLILTNIWN'),\n",
       " Seq('QRLYLKGCKREEKKTVSKKFG'),\n",
       " Seq('LIKKNLGSKRFTLGSPIKLSSH'),\n",
       " Seq('ENPRDRETQEDQDNCCLPSGCW'),\n",
       " Seq('SKMRCRVSNSRSKGLLTKSAQR'),\n",
       " Seq('RNSCILRTLNAITFYSPSHPKA'),\n",
       " Seq('PLMTVSRIGNHSVGFNLIVSWS'),\n",
       " Seq('EINPHNLSLQGVYSTEFLDMLT'),\n",
       " Seq('NSMGQKFLRVKSVMISVQISIH'),\n",
       " Seq('DPNYSRLRYQSNVHKNQPHNLMD'),\n",
       " Seq('LNKSSAEYFFKISNSMFFQLLDS'),\n",
       " Seq('MGIGIDTEEPGLLFTSPHMHLNI'),\n",
       " Seq('PQHHQKLDATLQRNWPKSPLYGAS'),\n",
       " Seq('FITKPQIKTGCKSSKRSRLIQCNR'),\n",
       " Seq('RQNLHYIFKDYFLSFQWYLVMKVS'),\n",
       " Seq('ISPYNSLRTISKRLNDSLILLIHH'),\n",
       " Seq('FHTTIAFRPRKYPYNYTMYLTVNM'),\n",
       " Seq('KSTNVTFLVLTHSLLESIGHRQKG'),\n",
       " Seq('TGTKFRSSCRTRCCSSGNISRKARE'),\n",
       " Seq('RGRTYRTEWQTVSYLQKGDEYFIPC'),\n",
       " Seq('RWLQGCLLHATLGELCPSCREVLLC'),\n",
       " Seq('IRILSAFSNQTKLERSVIILHPKWF'),\n",
       " Seq('SAKFVSRETRCMGGSLYLGIPNWIR'),\n",
       " Seq('TQNQHQKRSLILIVGRQWRIINIEG'),\n",
       " Seq('ECLSSPRSSGGTLFPQSYCEKNSWIN'),\n",
       " Seq('IWHYQSTSLICFLYLAPTFKTQFLIQ'),\n",
       " Seq('IIILKALLSVLQSLQIKLIYQVRYPA'),\n",
       " Seq('RHSSNCLFPQFLEGTVRVMILNPSII'),\n",
       " Seq('KKLLKMIYSFIILKAVLKDIAKKHGL'),\n",
       " Seq('TLSCLSQNILKWITIILYMIQTPFQK'),\n",
       " Seq('TVACYCLHRVLTFINKILKSCLKTFL'),\n",
       " Seq('RIGESDLQAVGISTTLGHSVFRLMKLC'),\n",
       " Seq('RSTIRLTNLFLYQLKSLVMNKYFSKQG'),\n",
       " Seq('LSTHLSSSRTPKAQNFITSKITSEEKF'),\n",
       " Seq('SDTYLLSDLTFQIQDQLITYVDLRFSY'),\n",
       " Seq('ISECCRVNESWSCFHTHLYVFRETRGSH'),\n",
       " Seq('CNFYHHRVIKILLYKLVQIFGHELHTTL'),\n",
       " Seq('TTTTHLMINTSCLQMISQTLSSRTTLIA'),\n",
       " Seq('GQKFCFSNPLAFVKEDTSNGAGHQEYFK'),\n",
       " Seq('LYLSKLSHIKGEIECFFGDLDHYYMCLL'),\n",
       " Seq('YQDPGNHNALDSIHVQRSAGKEFIMMHS'),\n",
       " Seq('KLNTKKQKWPMNYQYPTSFTLNVIWIVL'),\n",
       " Seq('QPSLRPTDNRHEHPGLCSYHHRGPDLDTDR'),\n",
       " Seq('MMKTLIHTTCWNMSYPVLISRMNNSMFLIA'),\n",
       " Seq('RDRLRSVLESWLFHHMFPDLHYLTGFCLPIA'),\n",
       " Seq('ISIIYICWQSSFLSFVRLAILFLRLKLLQKK'),\n",
       " Seq('EKILFFLNLILRRQMHLNLFLWQMIHPEMLSRH'),\n",
       " Seq('SFEDLTMMSTFIPKHNNIKWSICIVDLSRILVS'),\n",
       " Seq('RMLTTSTNSKAALNQLMKLSLNFKRLQKRQSMC'),\n",
       " Seq('VPMRQTRGLLQLSKETMNQLLSLKKFILIFPTR'),\n",
       " Seq('THKKKYVYCVTLFLNLGMWTRPPDHGILLTWIL'),\n",
       " Seq('IRPTKESQSVLCSNSAMANRNEESALPESISKEVHG'),\n",
       " Seq('IKIRIKLIPSEDSFQEVIKSKRLADLPIIYHKTRQW'),\n",
       " Seq('GMSKDQLRPCVLLSELRQYILGPMGTMKSVGMKLGT'),\n",
       " Seq('PMSGPHQIQTPFTTVVLYTTMNSIMYFVQCQLLETLF'),\n",
       " Seq('GINHIKVTNRFNYINQMILFYGQTEEPMSTCKLSFGIAI'),\n",
       " Seq('DQWCNQQTAVCSNGIPKKPLFLFDGHQSLAQQIDLEQQL'),\n",
       " Seq('SVKVVPVSQTHCWLWTRAILHIATWKESDHVQEGSPNKE'),\n",
       " Seq('IKNLVMRVSWTGPVIHTRATCLTHKASLKQLKISQQGLY'),\n",
       " Seq('ITLKNKLKRSQRSSISLSPLTEFWPRLTPHSQPLKDTWFP'),\n",
       " Seq('VFDLKLDNYYKKLRSQALASFRRLNKHSYHWINKRIGFIV'),\n",
       " Seq('ARVYSLTAIRPQKILFLLYSKIMKYFIGHNWLLRTPMHKKQ'),\n",
       " Seq('VHFLQLILRNSVSIGDTNQWLYLLNVWMRYTVYLDFLIGCTND'),\n",
       " Seq('RQSSRNNLRHRKLCRGNWYGRILRNHQIRVGDKVSSTCTQRIPE'),\n",
       " Seq('IKKNLGPRSLIMPIFSRNHSIDHRLKALLPSSSEEILLELIYMI'),\n",
       " Seq('ELKSKTLALRLAEMSIWTASNCTHQMTKRQISLNSKMSLQEAQVK'),\n",
       " Seq('QQSPTSRQWFQVNNNNLNTNLSHKHYSFQPSDDNTILDTCLLKCM'),\n",
       " Seq('NPRVMVGVTININLPYEVSRKGGMIKLCRMDLQASNRVTPCIFLL'),\n",
       " Seq('DFWSGQSLNTMIQIVPSRSVNTVNLKIAGYLWGLDQTAIISFDLDY'),\n",
       " Seq('SCNNRCWINGQRNTSNGEERRQGSGGDGRLDENPQNCSRQQQGKNTFC'),\n",
       " Seq('ATVFALEYTIPLTSFLTLISCYFFDKSLNLTKVYQVMLAQVNCNLNLD'),\n",
       " Seq('NTIYQMGRTPKLYSLKYLIKDYLLDLLAKSMILWVNLFSTKRHFHGIL'),\n",
       " Seq('YWCVSQYIVIQILLKYIFFAYRRRSRLLFPRKKSLSTLICTMKSMTRE'),\n",
       " Seq('NGPLKFIIGVLEEDILWSTYCQILYQIHQSTLTKCCQMPCHILEYSRDL'),\n",
       " Seq('LICLSQIISHNNSRKCRQKTRKLDSKILLQTKGKFLVKLLRATTEPWTLRK'),\n",
       " Seq('SAFLLKMKSLQVLAENPMNPLDVQSKANQSETTFKPRTTNQQMYQEQDRKIQQ'),\n",
       " Seq('EPSATILKLQKLSSVHIFLFIRRKFIMMVLCCLRHSNQCQDVAFGQRLWWMKLD...ALQ'),\n",
       " Seq('ARIKLRSSTVLCKLLTGKDQELRCQSPEVFPLKRAQTRNIHLLGRKTCLGRRVV...MSN'),\n",
       " Seq('KTKRITLLIRLNLLSIIRAKLTESIITCHPIHEIVISVVIQVSLFSIIIPSLIL...LIQ'),\n",
       " Seq('SMMASILLTLFRRTKKKYRRHTDDQVFNNPASKIKQKPGKIFCSAPVENLNKLR...KLI')]"
      ]
     },
     "execution_count": 23,
     "metadata": {},
     "output_type": "execute_result"
    }
   ],
   "source": [
    "top_5_proteins"
   ]
  },
  {
   "cell_type": "code",
   "execution_count": null,
   "id": "fa822bf5",
   "metadata": {},
   "outputs": [],
   "source": [
    "# finding longest amino acid chain"
   ]
  },
  {
   "cell_type": "code",
   "execution_count": 24,
   "id": "0e938402",
   "metadata": {},
   "outputs": [
    {
     "data": {
      "text/plain": [
       "167"
      ]
     },
     "execution_count": 24,
     "metadata": {},
     "output_type": "execute_result"
    }
   ],
   "source": [
    "len(top_5_proteins[-1])"
   ]
  },
  {
   "cell_type": "code",
   "execution_count": 25,
   "id": "4705ceed",
   "metadata": {},
   "outputs": [
    {
     "data": {
      "text/plain": [
       "Seq('SMMASILLTLFRRTKKKYRRHTDDQVFNNPASKIKQKPGKIFCSAPVENLNKLR...KLI')"
      ]
     },
     "execution_count": 25,
     "metadata": {},
     "output_type": "execute_result"
    }
   ],
   "source": [
    "top_5_proteins[-1]"
   ]
  },
  {
   "cell_type": "code",
   "execution_count": null,
   "id": "d05dd9cc",
   "metadata": {},
   "outputs": [],
   "source": [
    "## writing this to a fasta file"
   ]
  },
  {
   "cell_type": "code",
   "execution_count": 26,
   "id": "bdccb452",
   "metadata": {},
   "outputs": [],
   "source": [
    "with open(\"nipah_protein_seq.fasta\", \"w\") as file:\n",
    "    file.write(f\">covid protein\\n{top_5_proteins[-1]}\")"
   ]
  },
  {
   "cell_type": "code",
   "execution_count": null,
   "id": "e4ac2728",
   "metadata": {},
   "outputs": [],
   "source": [
    "## using  blast to search the pdb database"
   ]
  },
  {
   "cell_type": "code",
   "execution_count": 27,
   "id": "4c9a88c6",
   "metadata": {},
   "outputs": [
    {
     "data": {
      "text/plain": [
       "<_io.StringIO at 0x7ff3902f1550>"
      ]
     },
     "execution_count": 27,
     "metadata": {},
     "output_type": "execute_result"
    }
   ],
   "source": [
    "from Bio.Blast import NCBIWWW\n",
    "\n",
    "result_handle2 = NCBIWWW.qblast(\"blastp\", \"pdb\", top_5_proteins[-1])\n",
    "result_handle2"
   ]
  },
  {
   "cell_type": "code",
   "execution_count": null,
   "id": "65547384",
   "metadata": {},
   "outputs": [],
   "source": [
    "## saving its result as xml file"
   ]
  },
  {
   "cell_type": "code",
   "execution_count": 28,
   "id": "e510d93b",
   "metadata": {},
   "outputs": [],
   "source": [
    "with open('nipah_results.xml', 'w') as save_file:\n",
    "    nipah_blast_results = result_handle2.read()\n",
    "    save_file.write(nipah_blast_results)"
   ]
  },
  {
   "cell_type": "code",
   "execution_count": 30,
   "id": "1f48e726",
   "metadata": {},
   "outputs": [
    {
     "ename": "AttributeError",
     "evalue": "'str' object has no attribute 'read'",
     "output_type": "error",
     "traceback": [
      "\u001b[0;31m---------------------------------------------------------------------------\u001b[0m",
      "\u001b[0;31mAttributeError\u001b[0m                            Traceback (most recent call last)",
      "\u001b[0;32m/tmp/ipykernel_11786/3561643587.py\u001b[0m in \u001b[0;36m<module>\u001b[0;34m\u001b[0m\n\u001b[1;32m      3\u001b[0m \u001b[0mblast_records\u001b[0m \u001b[0;34m=\u001b[0m \u001b[0mNCBIXML\u001b[0m\u001b[0;34m.\u001b[0m\u001b[0mparse\u001b[0m\u001b[0;34m(\u001b[0m\u001b[0;34m'nipah_results.xml'\u001b[0m\u001b[0;34m)\u001b[0m\u001b[0;34m\u001b[0m\u001b[0;34m\u001b[0m\u001b[0m\n\u001b[1;32m      4\u001b[0m \u001b[0;34m\u001b[0m\u001b[0m\n\u001b[0;32m----> 5\u001b[0;31m \u001b[0mblast_records\u001b[0m \u001b[0;34m=\u001b[0m \u001b[0mlist\u001b[0m\u001b[0;34m(\u001b[0m\u001b[0mblast_records\u001b[0m\u001b[0;34m)\u001b[0m\u001b[0;34m\u001b[0m\u001b[0;34m\u001b[0m\u001b[0m\n\u001b[0m\u001b[1;32m      6\u001b[0m \u001b[0mblast_records\u001b[0m\u001b[0;34m\u001b[0m\u001b[0;34m\u001b[0m\u001b[0m\n",
      "\u001b[0;32m~/anaconda3/lib/python3.9/site-packages/Bio/Blast/NCBIXML.py\u001b[0m in \u001b[0;36mparse\u001b[0;34m(handle, debug)\u001b[0m\n\u001b[1;32m    787\u001b[0m \u001b[0;34m\u001b[0m\u001b[0m\n\u001b[1;32m    788\u001b[0m     \u001b[0mpending\u001b[0m \u001b[0;34m=\u001b[0m \u001b[0;34m\"\"\u001b[0m\u001b[0;34m\u001b[0m\u001b[0;34m\u001b[0m\u001b[0m\n\u001b[0;32m--> 789\u001b[0;31m     \u001b[0mtext\u001b[0m \u001b[0;34m=\u001b[0m \u001b[0mhandle\u001b[0m\u001b[0;34m.\u001b[0m\u001b[0mread\u001b[0m\u001b[0;34m(\u001b[0m\u001b[0mBLOCK\u001b[0m\u001b[0;34m)\u001b[0m\u001b[0;34m\u001b[0m\u001b[0;34m\u001b[0m\u001b[0m\n\u001b[0m\u001b[1;32m    790\u001b[0m     \u001b[0;32mif\u001b[0m \u001b[0misinstance\u001b[0m\u001b[0;34m(\u001b[0m\u001b[0mtext\u001b[0m\u001b[0;34m,\u001b[0m \u001b[0mbytes\u001b[0m\u001b[0;34m)\u001b[0m\u001b[0;34m:\u001b[0m\u001b[0;34m\u001b[0m\u001b[0;34m\u001b[0m\u001b[0m\n\u001b[1;32m    791\u001b[0m         \u001b[0;31m# Not a text handle, raw bytes mode\u001b[0m\u001b[0;34m\u001b[0m\u001b[0;34m\u001b[0m\u001b[0m\n",
      "\u001b[0;31mAttributeError\u001b[0m: 'str' object has no attribute 'read'"
     ]
    }
   ],
   "source": [
    "from Bio.Blast import NCBIXML\n",
    "\n",
    "blast_records = NCBIXML.parse('nipah_results.xml')\n",
    "    \n",
    "blast_records = list(blast_records)\n",
    "blast_records\n"
   ]
  },
  {
   "cell_type": "code",
   "execution_count": null,
   "id": "a62bc57f",
   "metadata": {},
   "outputs": [],
   "source": []
  }
 ],
 "metadata": {
  "kernelspec": {
   "display_name": "Python 3 (ipykernel)",
   "language": "python",
   "name": "python3"
  },
  "language_info": {
   "codemirror_mode": {
    "name": "ipython",
    "version": 3
   },
   "file_extension": ".py",
   "mimetype": "text/x-python",
   "name": "python",
   "nbconvert_exporter": "python",
   "pygments_lexer": "ipython3",
   "version": "3.9.7"
  }
 },
 "nbformat": 4,
 "nbformat_minor": 5
}
